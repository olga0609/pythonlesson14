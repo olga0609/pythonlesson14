{
 "cells": [
  {
   "cell_type": "markdown",
   "metadata": {},
   "source": [
    "### Задание 1"
   ]
  },
  {
   "cell_type": "code",
   "execution_count": 7,
   "metadata": {},
   "outputs": [],
   "source": [
    "import requests\n",
    "from bs4 import BeautifulSoup\n",
    "import pandas as pd"
   ]
  },
  {
   "cell_type": "code",
   "execution_count": 51,
   "metadata": {},
   "outputs": [
    {
     "data": {
      "text/html": [
       "<div>\n",
       "<style scoped>\n",
       "    .dataframe tbody tr th:only-of-type {\n",
       "        vertical-align: middle;\n",
       "    }\n",
       "\n",
       "    .dataframe tbody tr th {\n",
       "        vertical-align: top;\n",
       "    }\n",
       "\n",
       "    .dataframe thead th {\n",
       "        text-align: right;\n",
       "    }\n",
       "</style>\n",
       "<table border=\"1\" class=\"dataframe\">\n",
       "  <thead>\n",
       "    <tr style=\"text-align: right;\">\n",
       "      <th></th>\n",
       "      <th>date</th>\n",
       "      <th>header</th>\n",
       "      <th>URL</th>\n",
       "    </tr>\n",
       "  </thead>\n",
       "  <tbody>\n",
       "    <tr>\n",
       "      <th>0</th>\n",
       "      <td>[сегодня в 18:52]</td>\n",
       "      <td>Разработка и мышление: как работает мозг во вр...</td>\n",
       "      <td>https://habr.com/ru/company/selectel/blog/536810/</td>\n",
       "    </tr>\n",
       "    <tr>\n",
       "      <th>1</th>\n",
       "      <td>[сегодня в 18:24]</td>\n",
       "      <td>Чистый Cython VS nvc++: жжем металлические пла...</td>\n",
       "      <td>https://habr.com/ru/company/ruvds/blog/536824/</td>\n",
       "    </tr>\n",
       "  </tbody>\n",
       "</table>\n",
       "</div>"
      ],
      "text/plain": [
       "                date                                             header  \\\n",
       "0  [сегодня в 18:52]  Разработка и мышление: как работает мозг во вр...   \n",
       "1  [сегодня в 18:24]  Чистый Cython VS nvc++: жжем металлические пла...   \n",
       "\n",
       "                                                 URL  \n",
       "0  https://habr.com/ru/company/selectel/blog/536810/  \n",
       "1     https://habr.com/ru/company/ruvds/blog/536824/  "
      ]
     },
     "execution_count": 51,
     "metadata": {},
     "output_type": "execute_result"
    }
   ],
   "source": [
    "df = pd.DataFrame(columns=['date', 'header', 'URL'])\n",
    "KEYWORDS = ['python', 'парсинг']\n",
    "req = requests.get('https://habr.com/ru/all/')\n",
    "soup = BeautifulSoup(req.text, 'html.parser')\n",
    "posts = soup.find_all('article', class_='post post_preview')\n",
    "for post in posts:\n",
    "    post_id = post.parent.attrs.get('id')\n",
    "    if not post_id:\n",
    "        continue\n",
    "    post_id = int(post_id.split('_')[-1])\n",
    "    preview = post.find_all('div', class_='post__text')\n",
    "    for pr in preview:\n",
    "            pr_lower = pr.text.lower()\n",
    "            if any([desired in pr_lower for desired in KEYWORDS]):\n",
    "                title_element = post.find('a', class_='post__title_link')\n",
    "                date = post.find('span', class_='post__time')\n",
    "                df.loc[len(df)] = [date, title_element.text, title_element.attrs.get('href')]\n",
    "                #print(title_element.text, title_element.attrs.get('href'))\n",
    "                break\n",
    "                \n",
    "df"
   ]
  },
  {
   "cell_type": "markdown",
   "metadata": {},
   "source": [
    "### Задание 2"
   ]
  },
  {
   "cell_type": "code",
   "execution_count": 218,
   "metadata": {
    "scrolled": true
   },
   "outputs": [
    {
     "data": {
      "text/html": [
       "<div>\n",
       "<style scoped>\n",
       "    .dataframe tbody tr th:only-of-type {\n",
       "        vertical-align: middle;\n",
       "    }\n",
       "\n",
       "    .dataframe tbody tr th {\n",
       "        vertical-align: top;\n",
       "    }\n",
       "\n",
       "    .dataframe thead th {\n",
       "        text-align: right;\n",
       "    }\n",
       "</style>\n",
       "<table border=\"1\" class=\"dataframe\">\n",
       "  <thead>\n",
       "    <tr style=\"text-align: right;\">\n",
       "      <th></th>\n",
       "      <th>email</th>\n",
       "      <th>date</th>\n",
       "      <th>source</th>\n",
       "      <th>description</th>\n",
       "    </tr>\n",
       "  </thead>\n",
       "  <tbody>\n",
       "    <tr>\n",
       "      <th>0</th>\n",
       "      <td>oig-dubna@yandex.ru</td>\n",
       "      <td>2019-05-16T00:00:00Z</td>\n",
       "      <td>shein.com</td>\n",
       "      <td>In June 2018, fast-fashion retailer Shein's da...</td>\n",
       "    </tr>\n",
       "    <tr>\n",
       "      <th>1</th>\n",
       "      <td>oig-dubna@yandex.ru</td>\n",
       "      <td>2019-06-13T00:00:00Z</td>\n",
       "      <td>canva.com</td>\n",
       "      <td>In May 2019, graphic-design site Canva's datab...</td>\n",
       "    </tr>\n",
       "    <tr>\n",
       "      <th>2</th>\n",
       "      <td>oig-dubna@yandex.ru</td>\n",
       "      <td>2016-10-29T00:00:00Z</td>\n",
       "      <td>vk.com</td>\n",
       "      <td>Popular Russian social networking platform VKo...</td>\n",
       "    </tr>\n",
       "  </tbody>\n",
       "</table>\n",
       "</div>"
      ],
      "text/plain": [
       "                 email                  date     source  \\\n",
       "0  oig-dubna@yandex.ru  2019-05-16T00:00:00Z  shein.com   \n",
       "1  oig-dubna@yandex.ru  2019-06-13T00:00:00Z  canva.com   \n",
       "2  oig-dubna@yandex.ru  2016-10-29T00:00:00Z     vk.com   \n",
       "\n",
       "                                         description  \n",
       "0  In June 2018, fast-fashion retailer Shein's da...  \n",
       "1  In May 2019, graphic-design site Canva's datab...  \n",
       "2  Popular Russian social networking platform VKo...  "
      ]
     },
     "execution_count": 218,
     "metadata": {},
     "output_type": "execute_result"
    }
   ],
   "source": [
    "import time\n",
    "time.sleep(0.3)\n",
    "\n",
    "df1 = pd.DataFrame(columns=['email', 'date', 'source', 'description'])\n",
    "\n",
    "EMAIL = ['gr360@mail.ru', 'oig-dubna@yandex.ru', 'testgr0609@yandex.ru', 'n00tell@mail.ru']\n",
    "params = {\n",
    "    'emailAddresses': EMAIL\n",
    "}\n",
    "headers = {\n",
    "    'Vaar-Header-App-Product': 'hackcheck-web-avast',\n",
    "    'Vaar-Version': '0'\n",
    "}\n",
    "URL = 'https://identityprotection.avast.com/v1/web/query/site-breaches/unauthorized-data'\n",
    "res = requests.post(URL, json=params, headers=headers)\n",
    "res.text\n",
    "#pd.DataFrame(res.json())\n",
    "\n",
    "for mail in EMAIL:\n",
    "    if res.json()['summary'][mail]['breaches'] != 0:\n",
    "        num = res.json()['summary'][mail]['breaches']\n",
    "        for n in num:\n",
    "            date = res.json()['breaches'][str(n)]['publishDate']\n",
    "            source = res.json()['breaches'][str(n)]['site']\n",
    "            description = res.json()['breaches'][str(n)]['description']\n",
    "            df1.loc[len(df1)] = [mail, date, source,description ]\n",
    "\n",
    "df1"
   ]
  },
  {
   "cell_type": "code",
   "execution_count": null,
   "metadata": {},
   "outputs": [],
   "source": []
  },
  {
   "cell_type": "code",
   "execution_count": null,
   "metadata": {},
   "outputs": [],
   "source": []
  },
  {
   "cell_type": "code",
   "execution_count": null,
   "metadata": {},
   "outputs": [],
   "source": []
  }
 ],
 "metadata": {
  "kernelspec": {
   "display_name": "Python 3",
   "language": "python",
   "name": "python3"
  }
 },
 "nbformat": 4,
 "nbformat_minor": 4
}
